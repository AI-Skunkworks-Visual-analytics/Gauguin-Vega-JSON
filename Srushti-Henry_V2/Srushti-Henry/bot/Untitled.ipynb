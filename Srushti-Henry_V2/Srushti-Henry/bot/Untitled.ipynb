{
 "cells": [
  {
   "cell_type": "code",
   "execution_count": null,
   "metadata": {},
   "outputs": [],
   "source": [
    "import pandas as pd\n",
    "from shapely.geometrye import Point, Polygon\n",
    "import matplotlib.pyplot as plt"
   ]
  },
  {
   "cell_type": "code",
   "execution_count": null,
   "metadata": {},
   "outputs": [],
   "source": [
    "import re\n",
    "\n",
    "txt = \"The rain in Spain\"\n",
    "long_txt = \"180\"\n",
    "lat_txt = \"25.165173\"\n",
    "long_rex = \"^(\\+|-)?((\\d((\\.)|\\.\\d{1,6})?)|(0*?\\d\\d((\\.)|\\.\\d{1,6})?)|(0*?1[0-7]\\d((\\.)|\\.\\d{1,6})?)|(0*?180((\\.)|\\.0{1,6})?))$\"\n",
    "lat_rex = \"^(\\+|-)?((\\d((\\.)|\\.\\d{1,6})?)|(0*?[0-8]\\d((\\.)|\\.\\d{1,6})?)|(0*?90((\\.)|\\.0{1,6})?))$\"\n",
    "exp = \"^The.*Spain$\"\n",
    "all_rex = \"(\\.0+)?|((1[0-7]\\d)|([1-9]?\\d))(\\.\\d+)?)$\"\n",
    "x = re.search(long_rex, long_txt)\n",
    "x"
   ]
  },
  {
   "cell_type": "code",
   "execution_count": 3,
   "metadata": {},
   "outputs": [
    {
     "name": "stdout",
     "output_type": "stream",
     "text": [
      "Valid\n"
     ]
    }
   ],
   "source": [
    "import re\n",
    "\n",
    " \n",
    "\n",
    "SIGN = '[\\+-]?'\n",
    "DECIMALS = '(\\.[0-9]+)?'\n",
    "ZEROS = '(\\.0+)?'\n",
    "\n",
    " \n",
    "\n",
    "LATITUDE =  f'{SIGN}(90{ZEROS}|[1-8]\\d{DECIMALS}|\\d{DECIMALS})'\n",
    "LONGITUDE = f'{SIGN}(180{ZEROS}|1[0-7]\\d{DECIMALS}|[1-9]\\d{DECIMALS}|\\d{DECIMALS})'\n",
    "\n",
    " \n",
    "\n",
    "REGEX = f'\\({LATITUDE}, {LONGITUDE}\\)'\n",
    "pattern = re.compile(REGEX)\n",
    "\n",
    " \n",
    "\n",
    "def validate(long, lat):\n",
    "    value = \"\\({long}, {lat})\\)\".format( long = str(long), lat = str(lat) )\n",
    "    if pattern.search(value):\n",
    "        print('Valid')\n",
    "    else:\n",
    "        print(\"InValid\")\n",
    "\n",
    " \n",
    "\n",
    "validate( 47.1231231, 179.99999999 )"
   ]
  },
  {
   "cell_type": "code",
   "execution_count": null,
   "metadata": {},
   "outputs": [],
   "source": [
    "long = \"-127.554334\"\n",
    "validate(long)"
   ]
  },
  {
   "cell_type": "code",
   "execution_count": null,
   "metadata": {},
   "outputs": [],
   "source": []
  }
 ],
 "metadata": {
  "kernelspec": {
   "display_name": "vega_python",
   "language": "python",
   "name": "vega_python"
  },
  "language_info": {
   "codemirror_mode": {
    "name": "ipython",
    "version": 3
   },
   "file_extension": ".py",
   "mimetype": "text/x-python",
   "name": "python",
   "nbconvert_exporter": "python",
   "pygments_lexer": "ipython3",
   "version": "3.7.2"
  }
 },
 "nbformat": 4,
 "nbformat_minor": 2
}
